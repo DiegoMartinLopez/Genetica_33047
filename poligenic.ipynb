{
 "cells": [
  {
   "cell_type": "markdown",
   "id": "fdb328b3",
   "metadata": {},
   "source": [
    "## Herència poligènica\n",
    "\n",
    "Potser el problema central de la genètica és establir el mapa entre genotip i fenotip, o si més no estudiar eixe mapa i determinar les seues propietats. En el cas d'herència mendeliana monogènica, amb dominància, el mapa seria, per exemple, així: **AA** $\\rightarrow$ fenotip 1; **Aa** $\\rightarrow$ fenotip 1; **aa** $\\rightarrow$ fenotip 2. Les proporcions en què apareixen els diferents fenotips *entre la descendència d'un creuament controlat* ens ajuden a confirmar el mapa-hipòtesi. Com que en un creuament **Aa** $\\times$ **Aa** els descendents heterozigots són el doble de probables que qualsevol dels possibles homozigots, i d'acord amb el mapa anterior, *en la descendència* esperem els fenotips 1 i 2 en proporcions 3:1.\n",
    "\n",
    "Quan en la determinació d'un caràcter intervenen dos gens, com podria ser el mapa genotip-fenotip? Cada cas d'epístasi és un *mapa* diferent. Posem, per exemple, el cas d'una epístasi doble dominant, en la qual la descendència d'un creuament dihíbrid té proporcions 15:1, perquè només el doble recessiu expressa un fenotip diferent. És el cas d'algunes soques de blat amb grans colorejats o blancs: només els grans de blat dobles recessius són blancs. El mapa el podem especificar assignant a cada un dels 9 genotips possibles un fenotip (color) diferent.\n",
    "\n",
    " | Genotip | Freqüència | Fenotip |\n",
    " | ------- | ---------- | ------- |\n",
    " | AA BB   | 1 / 16     | color   |\n",
    " | AA Bb   | 2 / 16     | color   |\n",
    " | AA bb   | 1 / 16     | color   |\n",
    " | Aa BB   | 2 / 16     | color   |\n",
    " | Aa Bb   | 4 / 16     | color   |\n",
    " | Aa bb   | 2 / 16     | color   |\n",
    " | aa BB   | 1 / 16     | color   |\n",
    " | aa Bb   | 2 / 16     | color   |\n",
    " | aa bb   | 1 / 16     | blanc   |\n",
    " \n",
    "Aquesta manera d'especificar un mapa entre genotip i fenotip és difícil de generalitzar i incòmoda, no es presta a l'anàlisi matemàtica. Per tal d'ajudar-nos a pensar en termes més generals, és convenient expressar el valor fenotípic esperat d'un genotip com una suma de diferents termes: la contribució *aditiva* de cada al·lel de cada gen, l'efecte de la dominància i l'efecte de la interacció entre els gens (epístasi). En l'exemple anterior, podem traduir els fenotips colorejat i blanc als valors numèrics 1 i 0, respectivament. Imaginem primer que el segon locus té el genotip **bb** i per tant el color està determinat només pel primer locus. L'al·lel **A** contribuïria 0.5 al fenotip ($\\alpha_A = 0.5$), de tal manera que el genotip **AA** abastara el valor 1 ($\\alpha_A + \\alpha_A$). Mentre que l'al·lel **a** haurà de fer una contribució nul·la ($\\alpha_a = 0$) per tal que el genotip **aa** tinga el valor 0. La dominància es pot representar (o *parametritzar*) així: $G_{11,12} = \\alpha_{11} + \\alpha_{12} + k_{11,12}\\cdot |\\alpha_{11} - \\alpha_{12}|$, on $G_1$ seria el valor del fenotip determinat pel primer locus, $\\alpha_{ij}$ és la contribució aditiva de l'al·lel $j$ del locus $i$ al fenotip i $k_{11,12}$ és la dominància entre els al·lels 1 i 2 del locus 1 (és a dir, els dos al·lels que composen el genotip concret del qual estem expressant el seu valor esperat de fenotip). Es pot comprovar que si $k_{ij} = 1$, l'al·lel dominant és el que té una contribució major al fenotip (**A**, en aquest cas); si $k_{ij} = 0$, l'al·lel dominant seria **a**; i si $k_{ij} = 0.5$, no hi hauria dominància, sinó un fenotip intermig en l'heterozigot. Per tant, amb $k_{ij}$ = 1$:\n",
    "\n",
    "$G_{AA} = \\alpha_A + \\alpha_A + k_{AA} \\cdot | \\alpha_A - \\alpha_A | = 0.5 + 0.5 + 0 = 1$\n",
    "\n",
    "$G_{Aa} = \\alpha_A + \\alpha_a + k_{Aa} \\cdot | \\alpha_A - \\alpha_a | = 0.5 + 0 + 0.5 = 1$\n",
    "\n",
    "$G_{aa} = \\alpha_a + \\alpha_a + k_{aa} \\cdot | \\alpha_a - \\alpha_a | = 0 + 0 + 0 = 0$\n",
    "\n",
    "I la mateixa situació seria certa per al segon locus, si en el primer el genotip fóra **aa**. És a dir, $k_{BB} = k_{Bb} = k_{bb} = 1$, i $G_{21,22} = \\alpha_{21} + \\alpha_{22} + k_{21,22} \\cdot | \\alpha_{21} - \\alpha_{22} |$. Però en sumar els efectes dels dos gens, necessitem corregir per l'epístasi entre ells:\n",
    "\n",
    "$G = G_{11,12} + G_{21,22} + I_{11,12,21,22}$\n",
    "\n",
    "Per tal de representar l'epístasi concreta d'aquest exemple, el terme $I_{12}$ ha de prendre el valor 0 quan almenys un dels dos gens té el genotip homozigot recessiu, i -1 quan no és així. És a dir: \n",
    "\n",
    "$I_{AA,BB}=I_{AA,Bb}=I_{Aa,BB}=I_{Aa,Bb} = -1$\n",
    "\n",
    "$I_{aa,BB}=I_{aa,Bb}=I_{aa,bb}=I_{AA,bb}=I_{Aa,bb} = 0$\n",
    "\n",
    "No sembla que hem avançat molt, perquè tenim un muntó de fòrmules per descriure una simple epístasi doble dominant. Però resulta que les mateixes fòrmules ens serveixen per representar moltes altres situacions.\n"
   ]
  },
  {
   "cell_type": "code",
   "execution_count": null,
   "id": "97a8c57d",
   "metadata": {},
   "outputs": [],
   "source": []
  }
 ],
 "metadata": {
  "kernelspec": {
   "display_name": "R",
   "language": "R",
   "name": "ir"
  },
  "language_info": {
   "codemirror_mode": "r",
   "file_extension": ".r",
   "mimetype": "text/x-r-source",
   "name": "R",
   "pygments_lexer": "r",
   "version": "4.3.1"
  }
 },
 "nbformat": 4,
 "nbformat_minor": 5
}

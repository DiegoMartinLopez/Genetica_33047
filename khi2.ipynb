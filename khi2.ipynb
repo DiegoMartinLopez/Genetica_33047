{
 "cells": [
  {
   "cell_type": "markdown",
   "id": "7172870a",
   "metadata": {},
   "source": [
    "## Test de la $\\chi^2$\n",
    "\n",
    "El test de la $\\chi^2$ ens permet comparar les proporcions observades amb les esperades d'acord amb alguna hipòtesi. Exemples de possibles aplicacins:\n",
    "\n",
    "- Comprovar si els sis codons que codifiquen la serina apareixen amb la mateixa freqüència (1/6) en un genoma.\n",
    "- Comprovar si els sis codons que codifiquen la serina apareixen en les proporcions esperades d'acord amb les freqüències dels nucleòtids que els composen.\n",
    "- Comprovar si dues variables categòriques (e.g., l'ús d'ulleres i el gènere) estan associades o són independents.\n",
    "- Comprovar si la descendència d'un creuament presenta una distribució de fenotips com l'esperada d'un creuament trihíbrid.\n",
    "\n",
    "### La hipòtsi\n",
    "\n",
    "Creuem dues plantes amb pésols grocs i llisos i amb flors lila. Sospitem que els tres caràcters estan determinats per tres gens en cromosomes diferents, i que els fenotips parentals són els dominants. Si la nostra hipòtesi és correcta esperem observar en la descendència plantes de 8 fenotips diferents, amb les proporcions següents:\n",
    "\n",
    "  | Freqüència esperada | Fenotip                                   |\n",
    "  | ------------------- | ----------------------------------------- |\n",
    "  | 27 / 64             | Fruits grocs, pell llisa, flors violeta   |\n",
    "  |  9 / 64             | Fruits grocs, pell llisa, flors blanques  |\n",
    "  |  9 / 64             | Fruits grocs, pell rugosa, flors violeta  |\n",
    "  |  9 / 64             | Fruits verds, pell llisa, flors violeta   |\n",
    "  |  3 / 64             | Fruits grocs, pell rugosa, flors blanques |\n",
    "  |  3 / 64             | Fruits verds, pell llisa, flors blanques  |\n",
    "  |  3 / 64             | Fruits verds, pell rugosa, flors violeta  |\n",
    "  |  1 / 64             | Fruits verds, pell rugosa, flors blanques |\n",
    "\n",
    "### Les dades\n",
    "\n",
    "Observem les freqüències següents entre la descendència:\n",
    "\n",
    "  | Freqüència observada | Fenotips                                  |\n",
    "  | -------------------- | ----------------------------------------- |\n",
    "  |              72      | Fruits grocs, pell llisa, flors violeta   |\n",
    "  |              72      | Fruits grocs, pell llisa, flors blanques  |\n",
    "  |              27      | Fruits grocs, pell rugosa, flors violeta  |\n",
    "  |              23      | Fruits verds, pell llisa, flors violeta   |\n",
    "  |              23      | Fruits grocs, pell rugosa, flors blanques |\n",
    "  |              19      | Fruits verds, pell llisa, flors blanques  |\n",
    "  |              11      | Fruits verds, pell rugosa, flors violeta  |\n",
    "  |               3      | Fruits verds, pell rugosa, flors blanques |\n",
    "  "
   ]
  },
  {
   "cell_type": "code",
   "execution_count": 1,
   "id": "22f235bf",
   "metadata": {},
   "outputs": [
    {
     "data": {
      "text/html": [
       "<style>\n",
       ".list-inline {list-style: none; margin:0; padding: 0}\n",
       ".list-inline>li {display: inline-block}\n",
       ".list-inline>li:not(:last-child)::after {content: \"\\00b7\"; padding: 0 .5ex}\n",
       "</style>\n",
       "<ol class=list-inline><li>72</li><li>72</li><li>27</li><li>23</li><li>23</li><li>19</li><li>11</li><li>3</li></ol>\n"
      ],
      "text/latex": [
       "\\begin{enumerate*}\n",
       "\\item 72\n",
       "\\item 72\n",
       "\\item 27\n",
       "\\item 23\n",
       "\\item 23\n",
       "\\item 19\n",
       "\\item 11\n",
       "\\item 3\n",
       "\\end{enumerate*}\n"
      ],
      "text/markdown": [
       "1. 72\n",
       "2. 72\n",
       "3. 27\n",
       "4. 23\n",
       "5. 23\n",
       "6. 19\n",
       "7. 11\n",
       "8. 3\n",
       "\n",
       "\n"
      ],
      "text/plain": [
       "[1] 72 72 27 23 23 19 11  3"
      ]
     },
     "metadata": {},
     "output_type": "display_data"
    }
   ],
   "source": [
    "Observades <- c(72, 72, 27, 23, 23, 19, 11, 3)\n",
    "Observades"
   ]
  },
  {
   "cell_type": "markdown",
   "id": "0a57cc6d",
   "metadata": {},
   "source": [
    "### L'estadístic\n",
    "\n",
    "$X = \\sum_{i=1}^{i=n}\\frac{(O_i - E_i)^2}{E}$"
   ]
  },
  {
   "cell_type": "code",
   "execution_count": 3,
   "id": "4310c886",
   "metadata": {},
   "outputs": [
    {
     "data": {
      "text/html": [
       "<style>\n",
       ".list-inline {list-style: none; margin:0; padding: 0}\n",
       ".list-inline>li {display: inline-block}\n",
       ".list-inline>li:not(:last-child)::after {content: \"\\00b7\"; padding: 0 .5ex}\n",
       "</style>\n",
       "<ol class=list-inline><li>105.46875</li><li>35.15625</li><li>35.15625</li><li>35.15625</li><li>11.71875</li><li>11.71875</li><li>11.71875</li><li>3.90625</li></ol>\n"
      ],
      "text/latex": [
       "\\begin{enumerate*}\n",
       "\\item 105.46875\n",
       "\\item 35.15625\n",
       "\\item 35.15625\n",
       "\\item 35.15625\n",
       "\\item 11.71875\n",
       "\\item 11.71875\n",
       "\\item 11.71875\n",
       "\\item 3.90625\n",
       "\\end{enumerate*}\n"
      ],
      "text/markdown": [
       "1. 105.46875\n",
       "2. 35.15625\n",
       "3. 35.15625\n",
       "4. 35.15625\n",
       "5. 11.71875\n",
       "6. 11.71875\n",
       "7. 11.71875\n",
       "8. 3.90625\n",
       "\n",
       "\n"
      ],
      "text/plain": [
       "[1] 105.46875  35.15625  35.15625  35.15625  11.71875  11.71875  11.71875\n",
       "[8]   3.90625"
      ]
     },
     "metadata": {},
     "output_type": "display_data"
    }
   ],
   "source": [
    "Total = sum(Observades)\n",
    "Esperades = Total * c(27/64, 9/64, 9/64, 9/64, 3/64, 3/64, 3/64, 1/64)\n",
    "Esperades"
   ]
  },
  {
   "cell_type": "code",
   "execution_count": 4,
   "id": "3019afbe",
   "metadata": {},
   "outputs": [
    {
     "data": {
      "text/html": [
       "70.9671111111111"
      ],
      "text/latex": [
       "70.9671111111111"
      ],
      "text/markdown": [
       "70.9671111111111"
      ],
      "text/plain": [
       "[1] 70.96711"
      ]
     },
     "metadata": {},
     "output_type": "display_data"
    }
   ],
   "source": [
    "X <- sum((Observades - Esperades) ^2 / Esperades)\n",
    "X"
   ]
  },
  {
   "cell_type": "markdown",
   "id": "55b90d06",
   "metadata": {},
   "source": [
    "L'estadístic ha estat calculat amb 7 graus de llibertat (8 classes fenotípiques o *dades*, menys un grau de llibertat consumit en el càlcul del número total d'individus). Per tant hem de comparar el seu valor amb la distribució $\\chi^2_7$. Puc utilitzar la funció `pchisq()` per obtenir la probabilitat acumulada de tots els valors menors o iguals a l'obtingut (si `lower.tail = TRUE`) o bé la probabilitat deixada a la dreta, la de tots els valors majors a l'obtingut (si `lower.tail = FALSE`). Aquesta última és el *valor p*. És la probabilitat d'obtenir per casualitat un valor de l'estadístic igual o superior a l'observat si la hipòtesi nul·la és certa."
   ]
  },
  {
   "cell_type": "code",
   "execution_count": 5,
   "id": "903d361d",
   "metadata": {},
   "outputs": [
    {
     "data": {
      "text/html": [
       "9.41827027942454e-13"
      ],
      "text/latex": [
       "9.41827027942454e-13"
      ],
      "text/markdown": [
       "9.41827027942454e-13"
      ],
      "text/plain": [
       "[1] 9.41827e-13"
      ]
     },
     "metadata": {},
     "output_type": "display_data"
    }
   ],
   "source": [
    "pchisq(X, df = 7, lower.tail = FALSE)"
   ]
  },
  {
   "cell_type": "markdown",
   "id": "4a9d9623",
   "metadata": {},
   "source": [
    "Com que el valor *p* és molt baix, rebutgem la hipòtesi nul·la i busquem alguna explicació alternativa. Aleshores, repassant les dades, t'adones que en realitat el creuament no era entre dues plantes amb pésols grocs i llisos i amb flors violeta, sinó que una de les plantes tenia en realitat les flors blanques!\n",
    "\n",
    "Com modificaries aleshores la hipòtesi? Ets capaç de comprovar una nova hipòtesi?"
   ]
  }
 ],
 "metadata": {
  "kernelspec": {
   "display_name": "R",
   "language": "R",
   "name": "ir"
  },
  "language_info": {
   "codemirror_mode": "r",
   "file_extension": ".r",
   "mimetype": "text/x-r-source",
   "name": "R",
   "pygments_lexer": "r",
   "version": "4.3.1"
  }
 },
 "nbformat": 4,
 "nbformat_minor": 5
}

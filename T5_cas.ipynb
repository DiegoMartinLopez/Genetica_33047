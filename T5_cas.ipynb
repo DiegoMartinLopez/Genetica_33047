{
 "cells": [
  {
   "cell_type": "markdown",
   "id": "4fb64e7b-d4d9-4d99-8ba5-1bf6dd298f0b",
   "metadata": {},
   "source": [
    "# Introducción\n",
    "La genética mendeliana se desarrolló muy rápidamente y causó un gran impacto científico, incluso en el campo de la medicina. Sin embargo, a principios del siglo XX existían motivos para sospechar que aquella teoría no podía ser el fundamento de una ciencia definitiva de la herencia. El problema era que solamente los caracteres cualitativos podían ser analizados y comprendidos bajo la lupa de la genética mendeliana. Muchos caracteres de interés se tienen que *medir* o cuantificar. El objetivo de este documento es traducir lo que hemos aprendido hasta ahora de genética mendeliana a un lenguaje matemático que nos permitirá describir también los caracteres cuantitativos.\n",
    "\n",
    "# Qué significa medir\n",
    "Medir és atribuir números a los atributos de ciertas entidades, con la esperanza de que las relaciones entre esos números reflejen realmente las relaciones (orden, equivalencia, diferencia, etc.) entre los atributos. Un buen punto de entrada a la teoría de las medidas es el artículo de David Houle, Cristophe Pélabon, Günter P. Wagner y Thomas F. Hansen \"Mesurement and meaning in Biology\" (2011, *The Quarterly Review of Biology* 86(1):3-34. [doi: 10.1086/658408](https://doi.org/10.1086/658408)).\n",
    "\n",
    "Si lo único que queremos es diferenciar valores diferentes (como el color o la textura de un guisante) podemos utilizar los números en una escala *nominal*, sabiendo que sólo la relación de equivalencia entre los números reflejaría una relación empírica entre los atributos. Por ejemplo, podemos usar los números 0 y 1 para indicar que un guisante es verde (0) o amarillo (1), sin que esto implique que \"amarillo\" sea *mayor que* \"verde\" en ningún sentido.\n",
    "\n",
    "# Méndel con números\n",
    "Una vez cuantificado el fenotipo, vamos a imaginar que un solo locus determina su valor, con dos alelos **A** y **a**. El desafío ahora es encontrar una función o *mapa* que relacione el genotipo con el fenotipo. Aunque no es la única posibilidad, la función siguiente nos serviría:\n",
    "\n",
    "\\begin{align}\n",
    "G &= \\alpha_{f} + \\alpha_{m} + k_{fm}\n",
    "\\end{align}\n",
    "\n",
    "Donde $G$ es el *f*enotipo del individuo, $\\alpha_{f}$ es la contribución del alelo heredado del padre, $\\alpha_{m}$ es la contribución del alelo heredado de la madre y $k_{fm}$ sería la dominancia entre los alelos heredados del padre y de la madre. Para que esto funcione, necesitamos definir sus valores, por ejemplo así: $\\alpha_{a} = 0$, $\\alpha_A = 0.5$, $k_{AA} = k_{aa} = 0$ y $k_{Aa} = 0.5$, donde los alelos paterno y materno pueden ser **A** o **a**. \n",
    "\n",
    "| Alelo paterno | alelo materno | genotipo | $\\alpha_f$ | $\\alpha_m$ | $k_{mf}$ | fenotipo (G)  |\n",
    "| ------------- | ------------- | -------- | ---------- | ---------- | -------- | ------------- |\n",
    "|       A       |       A       |    AA    |     0.5    |     0.5    |     0    | $0.5+0.5+0=1$ |\n",
    "|       A       |       a       |    Aa    |     0.5    |     0      |    0.5   | $0.5+0+0.5=1$ |\n",
    "|       a       |       A       |    Aa    |     0      |     0.5    |    0.5   | $0+0.5+0.5=1$ |\n",
    "|       a       |       a       |    aa    |     0      |     0      |     0    | $0+0+0 = 0$   |\n",
    "\n",
    "Esta *parametrización* puede parecer innecesariamente complicada, porque nos obliga a definir tres parámetros, $\\alpha_m$, $\\alpha_f$ y $k_{mf}$. Pero resulta útil porque los tres parámetros tienen interpretaciones llenas de sentido biológico. Las contribuciones alélicas (que también podríamos escribir como $\\alpha_A$ y $\\alpha_a$ para referirnos a las de cada alelo concreto, se llaman **efectos alélicos** y representan la contribución individual de cada alelo al genotipo *si su acción fuera lineal o independiente*. Mientras que $k_{jfm}$ representa la relación de dominancia entre los dos alelos. Puedes comprobar que si $k_{Aa} = -0.5$, entonces el alelo dominante sería **a**, en lugar de **A**. Y si $k_{Aa}=0$, entonces habría herencia intermedia, puesto que el fenotipo sería $P=0+0.5+0=0.5$, intermedio entre el 0 y el 1.\n",
    "\n",
    "También puede parecer un error utilizar la letra *G* para representar el fenotipo. El motivo es que por el momento estamos considerando sólo la contribución *g*enética al fenotipo, no la ambiental.\n",
    "\n",
    "## Cambio de escala\n",
    "Piensa ahora en un carácter genuinamente cuantitativo, como la longitud de la planta de trigo, pero que estuviera determinado por sólo un gen con dos alelos, de manera que los fenotipos posibles fueran sólo dos (con dominancia: planta corta o planta alta) o tres (corta, intermedia y alta), porque el ambiente fuera exactamente idéntico en todas las plantas. Una longitud puede medirse en una *escala de razón* (*ratio scale*) de números reales positivos, en la que el número 0 tiene sentido interpretable. Lo importante no son las unidades concretas en las que medimos, sino la diferencia entre los valores más extremos. \n",
    "\n",
    "Así que para poder generalizar, adoptaremos la escala entre 0 y $2a$, donde 0 es el fenotipo más bajo y $2a$, el más alto, de manera que $a$ sería el punto medio entre los dos extremos. \n",
    "\n",
    "\n",
    "## Epistasia con números\n",
    "¿Qué pasa si dos genes determinan un mismo carácter? Podemos continuar imaginando que todas las diferencias observadas entre indivíduos son debidas a sus diferencias genéticas (lo cual no significa que el ambiente no importe, sino que es exactamente el mismo para todos). Podemos también imaginar el fenotipo como un valor $G$ resultante de las contribuciones de los dos genes. Si cada gen contribuyera aditivamente, de forma independiente del otro, sólo habría que sumar los efectos de cada uno: $G = G_1 + G_2$. Teniendo en cuenta las dominancias en cada gen: $G = \\alpha_{1m}+\\alpha_{1f} + k_{mf}|\\alpha\n",
    "\n",
    "\\begin{align}\n",
    "G &= \n",
    "\\end{align}\n",
    "\n",
    "\n",
    "## La epistasia simple recesiva\n",
    "\n",
    "\n",
    "\n",
    "\n",
    "\n",
    "\n",
    "# \n",
    "\n",
    " "
   ]
  },
  {
   "cell_type": "code",
   "execution_count": null,
   "id": "142f3e97-5d98-4a5c-8ce6-575d7bd48c3c",
   "metadata": {},
   "outputs": [],
   "source": [
    "g <- c(0, 1, 2)\n",
    "P <- "
   ]
  }
 ],
 "metadata": {
  "kernelspec": {
   "display_name": "R",
   "language": "R",
   "name": "ir"
  },
  "language_info": {
   "codemirror_mode": "r",
   "file_extension": ".r",
   "mimetype": "text/x-r-source",
   "name": "R",
   "pygments_lexer": "r",
   "version": "4.2.2"
  }
 },
 "nbformat": 4,
 "nbformat_minor": 5
}

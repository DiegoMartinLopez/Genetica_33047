{
 "cells": [
  {
   "cell_type": "raw",
   "id": "4b0a47e7-5212-4e23-9dc0-965e62cb51e1",
   "metadata": {},
   "source": [
    "---\n",
    "title: Tema 5. Genética cuantitativa\n",
    "author: J. Ignacio Lucas Lledó\n",
    "date: `r Sys.Date()`\n",
    "bibliography: references.bib\n",
    "---"
   ]
  },
  {
   "cell_type": "markdown",
   "id": "4fb64e7b-d4d9-4d99-8ba5-1bf6dd298f0b",
   "metadata": {},
   "source": [
    "# Introducción\n",
    "La genética mendeliana se desarrolló muy rápidamente y causó un gran impacto científico, incluso en el campo de la medicina. Sin embargo, a principios del siglo XX existían motivos para sospechar que aquella teoría no podía ser el fundamento de una ciencia definitiva de la herencia. El problema era que solamente los caracteres cualitativos podían ser analizados y comprendidos bajo la lupa de la genética mendeliana. Muchos caracteres de interés se tienen que *medir* o cuantificar. El objetivo de este documento es traducir lo que hemos aprendido hasta ahora de genética mendeliana a un lenguaje matemático que nos permitirá describir también los caracteres cuantitativos.\n",
    "\n",
    "# Qué significa medir\n",
    "Medir és atribuir números a los atributos de entidades, con la esperanza de que las relaciones entre esos números reflejen realmente las relaciones (orden, equivalencia, diferencia, etc.) entre los atributos. Un buen punto de entrada a la teoría de las medidas es el artículo de David Houle, Cristophe Pélabon, Günter P. Wagner y Thomas F. Hansen \"Mesurement and meaning in Biology\" (2011, *The Quarterly Review of Biology* 86(1):3-34. [doi: 10.1086/658408](https://doi.org/10.1086/658408)).\n",
    "\n",
    "Si lo único que queremos es diferenciar valores diferentes (como el color o la textura de un guisante) podemos utilizar los números como una escala *nominal*, sabiendo que sólo la relación de equivalencia entre los números reflejaría una relación empírica de equivalencia entre los atributos. Por ejemplo, podemos usar los números 0 y 1 para indicar que un guisante es verde (0) o amarillo (1).\n",
    "\n",
    "\n",
    "\n",
    "# \n",
    "\n",
    " "
   ]
  },
  {
   "cell_type": "code",
   "execution_count": null,
   "id": "142f3e97-5d98-4a5c-8ce6-575d7bd48c3c",
   "metadata": {},
   "outputs": [],
   "source": []
  }
 ],
 "metadata": {
  "kernelspec": {
   "display_name": "R",
   "language": "R",
   "name": "ir"
  },
  "language_info": {
   "codemirror_mode": "r",
   "file_extension": ".r",
   "mimetype": "text/x-r-source",
   "name": "R",
   "pygments_lexer": "r",
   "version": "4.3.1"
  }
 },
 "nbformat": 4,
 "nbformat_minor": 5
}

{
 "cells": [
  {
   "cell_type": "markdown",
   "id": "4fb64e7b-d4d9-4d99-8ba5-1bf6dd298f0b",
   "metadata": {},
   "source": [
    "# Una breve recapitulación\n",
    "A principios de siglo XX, se sabía que algunos caracteres cualitativos se heredaban de acuerdo con un patrón sencillo. Este patrón de herencia era compatible con la existencia en cada indivíduo de dos factores genéticos (uno heredado del padre y otro, de la madre) que conjuntamente determinaban aquel carácter cualitativo, y que se transmitían a la descendencia separadamente y con la misma probabilidad. Los dos factores en un indivíduo podían ser iguales (en su efecto sobre el fenotipo) o tener efectos diferentes (es decir, ser *alelos*). Enter dos alelos de un mismo *gen* podia existir una relación de *dominancia*, o no. Se conocían también casos de *epistasias* o interacción entre genes diferentes que afectaban el mismo carácter. Además, los desarrollos de la genética bioquímica demostraron que el mecanismo por el cual los factores genéticos ejercen su efecto sobre el fenotipo era la regulación de vías metabólicas. Los alelos de un gen determinan si una reacción química puede o no puede producirse, como si fueran interruptores de un gran circuito eléctrico que acaba produciendo uno de típicamente dos resultados posibles: fenotipo normal o mutante. De acuerdo con esta idea, todos los genes relacionados con las reacciones de una misma ruta metabólica podían afectar el mismo carácter (por ejemplo, el color de los ojos de una mosca). No era difícil entonces imaginar rutas metabólicas que explicaran las epistasias conocidas entre algunos pares de genes.\n",
    "\n",
    "# ¿Qué falta?\n",
    "Todos los caracteres que se podían analizar con estos conceptos eran cualitativos: presencia o ausencia de una enfermedad, color de algún órgano, etc. Pero muchos caracteres de interés agronómico son cuantitativos: tamaño del fruto, producción de leche, concentración de azúcar, momento de floración, rapidez de crecimiento, etc. También muchas variables médicas son cuantitativas: presión arterial, ritmo cardíaco, concentración de cualquier cosa en la sangre, etc. Un cuadro de Punnet es claramente insuficiente como *mapa* entre el genotipo y el fenotipo cuando tratamos de un carácter cuantitativo. Era necesario generalizar lo observado en caracteres cualitativos mendelianos a caracteres cuantitativos.\n",
    "\n",
    "# "
   ]
  }
 ],
 "metadata": {
  "kernelspec": {
   "display_name": "R",
   "language": "R",
   "name": "ir"
  },
  "language_info": {
   "codemirror_mode": "r",
   "file_extension": ".r",
   "mimetype": "text/x-r-source",
   "name": "R",
   "pygments_lexer": "r",
   "version": "4.2.2"
  }
 },
 "nbformat": 4,
 "nbformat_minor": 5
}
